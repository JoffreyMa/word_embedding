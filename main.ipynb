{
 "cells": [
  {
   "cell_type": "code",
   "execution_count": 14,
   "metadata": {},
   "outputs": [],
   "source": [
    "from word_embedding.helper import vocabulary, co_occurence_matrix\n",
    "from sklearn.datasets import fetch_20newsgroups\n",
    "import matplotlib.pyplot as plt\n",
    "import numpy as np\n",
    "#nltk.download('punkt', download_dir='data/input')"
   ]
  },
  {
   "attachments": {},
   "cell_type": "markdown",
   "metadata": {},
   "source": [
    "### Obtenir un Vocabulaire:\n",
    "\n",
    "Cette fois, on va implémenter séparément une fonction retournant le vocabulaire. Il faudra ici pouvoir contrôler sa taille, que ce soit en indiquant un nombre maximum de mots, ou un nombre minimum d'occurences pour qu'on prenne en compte les mots: c'est cette deuxième idée qu'on suivra ici. Attention, il faudra auparavant **trier les mots par fréquences pour retirer en priorité les moins fréquents** ! On ajoute, à la fin, un mot \"inconnu\" qui remplacera tous les mots qui n'apparaissent pas dans notre vocabulaire 'limité'. Note: il n'est pas nécessaire de compter le nombre d'occurences des mots inconnus. On ajoutera simplement un dernier token ```UNK``` à la fin du vocabulaire, avec la fréquence ```1```. "
   ]
  },
  {
   "cell_type": "code",
   "execution_count": 3,
   "metadata": {},
   "outputs": [
    {
     "name": "stdout",
     "output_type": "stream",
     "text": [
      "{'down': 0, 'the': 1, 'i': 2, 'UNK': 3}\n",
      "{'down': 6, 'the': 6, 'i': 5, 'UNK': 1}\n"
     ]
    }
   ],
   "source": [
    "corpus = ['I walked down down the boulevard',\n",
    "          'I walked down the avenue',\n",
    "          'I ran down the boulevard',\n",
    "          'I walk down the city',\n",
    "          'I walk down the the avenue']\n",
    "\n",
    "voc, counts = vocabulary(corpus, voc_threshold = 3)\n",
    "print(voc)\n",
    "print(counts)"
   ]
  },
  {
   "attachments": {},
   "cell_type": "markdown",
   "metadata": {},
   "source": [
    "### Obtenir les co-occurences:\n",
    "\n",
    "La fonction prend en entrée le corpus (une liste de strings, correspondant aux documents, ou phrases) et un vocabulaire, ainsi que la taille de la fenêtre de contexte. On pourra aussi implémenter la solution la plus simple - que le contexte d'un mot soit le reste du document duquel il provient. \n",
    "Enfin, on pourra implémenter la possibilité de faire décroitre linéairement l'importance d'un mot du contexte à mesure qu'on s'éloigne du mot d'origine. "
   ]
  },
  {
   "cell_type": "code",
   "execution_count": 4,
   "metadata": {},
   "outputs": [
    {
     "name": "stdout",
     "output_type": "stream",
     "text": [
      "[[2. 7. 6. 0.]\n",
      " [7. 2. 6. 0.]\n",
      " [6. 6. 0. 0.]\n",
      " [0. 0. 0. 0.]]\n"
     ]
    }
   ],
   "source": [
    "print(co_occurence_matrix(corpus, voc, 0, False))"
   ]
  },
  {
   "attachments": {},
   "cell_type": "markdown",
   "metadata": {},
   "source": [
    "#### Application à un vrai jeu de données\n",
    "\n",
    "On va chercher à obtenir ces comptes pour les données du **20 newsgroup dataset**, un jeu de données qui contient environ 18000 posts sur 20 sujets différents, déjà divisé en données d'entraînement et de test (la séparation est faite selon la date des posts). Voir la documentation sur ```scikit-learn```: https://scikit-learn.org/0.19/datasets/twenty_newsgroups.html"
   ]
  },
  {
   "cell_type": "code",
   "execution_count": 11,
   "metadata": {},
   "outputs": [],
   "source": [
    "newsgroups_train = fetch_20newsgroups(data_home = 'data/input', subset='train')\n",
    "newsgroups_test = fetch_20newsgroups(data_home = 'data/input', subset='test')"
   ]
  },
  {
   "cell_type": "code",
   "execution_count": 7,
   "metadata": {},
   "outputs": [
    {
     "name": "stdout",
     "output_type": "stream",
     "text": [
      "11314\n",
      "7532\n"
     ]
    }
   ],
   "source": [
    "print(len(newsgroups_train['data']))\n",
    "print(len(newsgroups_test['data']))"
   ]
  },
  {
   "cell_type": "code",
   "execution_count": 8,
   "metadata": {},
   "outputs": [
    {
     "name": "stdout",
     "output_type": "stream",
     "text": [
      "From: lerxst@wam.umd.edu (where's my thing)\n",
      "Subject: WHAT car is this!?\n",
      "Nntp-Posting-Host: rac3.wam.umd.edu\n",
      "Organization: University of Maryland, College Park\n",
      "Lines: 15\n",
      "\n",
      " I was wondering if anyone out there could enlighten me on this car I saw\n",
      "the other day. It was a 2-door sports car, looked to be from the late 60s/\n",
      "early 70s. It was called a Bricklin. The doors were really small. In addition,\n",
      "the front bumper was separate from the rest of the body. This is \n",
      "all I know. If anyone can tellme a model name, engine specs, years\n",
      "of production, where this car is made, history, or whatever info you\n",
      "have on this funky looking car, please e-mail.\n",
      "\n",
      "Thanks,\n",
      "- IL\n",
      "   ---- brought to you by your neighborhood Lerxst ----\n",
      "\n",
      "\n",
      "\n",
      "\n",
      "\n",
      "7\n",
      "rec.autos\n"
     ]
    }
   ],
   "source": [
    "print(newsgroups_train['data'][0])\n",
    "print(newsgroups_train['target'][0])\n",
    "print(newsgroups_train.target_names[newsgroups_train['target'][0]])"
   ]
  },
  {
   "attachments": {},
   "cell_type": "markdown",
   "metadata": {},
   "source": [
    "#### Etude rapide des données\n",
    "\n",
    "On voudrait ici, avant de procéder, avoir une idée de ce que contiennent ces critiques de films. On va donc obtenir le vocabulaire (entier) et représenter les fréquences des mots, dans l'ordre (attention, il faudra utiliser une échelle logarithmique): on devrait retrouver la loi de Zipf. Cela nous permettra d'avoir une idée de la taille du vocabulaire qu'on pourra choisir : il s'agit de réaliser un compromis entre les ressources nécessaires (taille des objets en mémoire) et quantité d'informations qu'on peut en tirer (les mots rares peuvent apporter beaucoup d'informations, mais il est difficile d'en apprendre de bonnes représentations,car ils sont rares !)  "
   ]
  },
  {
   "cell_type": "code",
   "execution_count": 15,
   "metadata": {},
   "outputs": [
    {
     "data": {
      "image/png": "[encoded data removed]",
      "text/plain": [
       "<Figure size 2000x500 with 1 Axes>"
      ]
     },
     "metadata": {},
     "output_type": "display_data"
    },
    {
     "name": "stdout",
     "output_type": "stream",
     "text": [
      "Vocabulary size: 89039\n",
      "Part of the corpus by taking the \"x\" most frequent words?\n",
      "Proportion of the corpus represented by the 1000 most frequent words: 0.6972\n"
     ]
    }
   ],
   "source": [
    "texts = newsgroups_train['data']\n",
    "vocab, word_counts = vocabulary(texts)\n",
    "\n",
    "sorted_word_counts = sorted(word_counts.items(), key=lambda x: x[1], reverse=True)\n",
    "counts = [count for _, count in sorted_word_counts]\n",
    "\n",
    "plt.figure(figsize=(20, 5))\n",
    "plt.title('Word counts versus rank')\n",
    "plt.scatter(range(len(counts)), counts)\n",
    "plt.yscale('log')\n",
    "plt.show()\n",
    "\n",
    "# We would like to know how much of the data is represented by the 'k' most frequent words\n",
    "print('Vocabulary size: %i' % len(vocab))\n",
    "print('Part of the corpus by taking the \"x\" most frequent words?')\n",
    "\n",
    "k = 1000\n",
    "cumulative_counts = np.cumsum(counts)\n",
    "total_words = np.sum(counts)\n",
    "corpus_part = cumulative_counts[k - 1] / total_words\n",
    "\n",
    "print(f'Proportion of the corpus represented by the {k} most frequent words: {corpus_part:.4f}')"
   ]
  },
  {
   "attachments": {},
   "cell_type": "markdown",
   "metadata": {},
   "source": [
    "Résultat de l'analyse: on peut se contenter d'un vocabulaire de 10000, voire 5000 mots - c'est important, car cela va déterminer la taille des objets que l'on va manipuler. On va maintenant recréer la matrice de co-occurence avec différents paramètres. Cela peut-être long: si cela pose problème, travaillez avec un vocabulaire plus réduit."
   ]
  },
  {
   "cell_type": "code",
   "execution_count": 19,
   "metadata": {},
   "outputs": [
    {
     "name": "stdout",
     "output_type": "stream",
     "text": [
      "(5001, 5001)\n",
      "(5001, 5001)\n"
     ]
    }
   ],
   "source": [
    "corpus = newsgroups_train['data']\n",
    "vocab_5k, word_counts_5k = vocabulary(corpus, 5000)\n",
    "M5dist = co_occurence_matrix(corpus, vocab_5k, window=5, distance_weighting=True)\n",
    "M20 = co_occurence_matrix(corpus, vocab_5k, window=20, distance_weighting=False)\n",
    "print(M5dist.shape)\n",
    "print(M20.shape)"
   ]
  },
  {
   "cell_type": "code",
   "execution_count": 20,
   "metadata": {},
   "outputs": [
    {
     "name": "stdout",
     "output_type": "stream",
     "text": [
      "1968\n",
      "[0.59053643 0.86794259 0.41702036 ... 0.         0.         0.        ]\n",
      "[281. 200. 172. ...   0.   0.   0.]\n"
     ]
    }
   ],
   "source": [
    "print(vocab_5k['politics'])\n",
    "print(M5dist[1968])\n",
    "print(M20[1968])"
   ]
  },
  {
   "attachments": {},
   "cell_type": "markdown",
   "metadata": {},
   "source": [
    "### Comparaison de vecteurs\n",
    "\n",
    "On peut se servir de ces vecteurs de très grande taille pour une analyse sémantique très basique: par exemple, en cherchant les plus proches voisins d'un mot. Cependant, il faudra faire attention aux distances qu'on utilise, liées à certaines métriques (Euclidiennes, Cosine) ou éventuellement d'autres liées à l'appartenance aux ensembles (Matching, Jaccard). La normalisation des vecteurs peut aussi jouer un rôle. Dans tous les cas, il faut bien faire attention à ne pas sur-interprêter ce type de résultats. "
   ]
  },
  {
   "cell_type": "code",
   "execution_count": null,
   "metadata": {},
   "outputs": [],
   "source": []
  }
 ],
 "metadata": {
  "kernelspec": {
   "display_name": "word_embedding_venv",
   "language": "python",
   "name": "python3"
  },
  "language_info": {
   "codemirror_mode": {
    "name": "ipython",
    "version": 3
   },
   "file_extension": ".py",
   "mimetype": "text/x-python",
   "name": "python",
   "nbconvert_exporter": "python",
   "pygments_lexer": "ipython3",
   "version": "3.9.2"
  },
  "orig_nbformat": 4
 },
 "nbformat": 4,
 "nbformat_minor": 2
}
